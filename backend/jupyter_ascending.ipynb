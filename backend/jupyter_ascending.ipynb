{
 "cells": [
  {
   "cell_type": "markdown",
   "metadata": {},
   "source": [
    "Imports"
   ]
  },
  {
   "cell_type": "code",
   "execution_count": 1212,
   "metadata": {},
   "outputs": [],
   "source": [
    "from scipy import signal\n",
    "import numpy as np\n",
    "import matplotlib.pyplot as plt\n",
    "from pydub import AudioSegment\n",
    "from plotting import plot_array\n",
    "from soundGen import play\n",
    "from pointsFrequency import signal_to_hertz\n",
    "from filterAudio import low_pass_Filter, high_pass_Filter, weierstrassFunc,\\\n",
    "     dirac_comb_discrete, Rev_Conv_Filter\n",
    "import torch\n",
    "from torch_pitch_shift import pitch_shift\n",
    "from numpy.random import uniform\n"
   ]
  },
  {
   "cell_type": "markdown",
   "metadata": {},
   "source": [
    "Set universal variables above functions and declare them "
   ]
  },
  {
   "cell_type": "code",
   "execution_count": 1213,
   "metadata": {},
   "outputs": [],
   "source": [
    "Fs = 44100\n",
    "T = 1/(Fs) \n",
    "N = Fs\n",
    "amplitude = 2\n",
    "frequency = [400, 200, 100]\n",
    "t = 1\n",
    "omega = 2 * np.pi\n"
   ]
  },
  {
   "cell_type": "markdown",
   "metadata": {},
   "source": [
    "Then create code for signal"
   ]
  },
  {
   "cell_type": "code",
   "execution_count": 1214,
   "metadata": {},
   "outputs": [],
   "source": [
    "t_vec = np.arange(N)*T*t \n",
    "ysum = 0\n",
    "sine_add = np.sin(np.linspace(-16 * np.pi,16 * np.pi,len(t_vec)))/10\n",
    "omega = 2 * np.pi* sine_add\n",
    "for i in range(len(frequency)):\n",
    "    ysum  += amplitude * np.sin(omega * frequency[i] * t_vec)\n"
   ]
  },
  {
   "cell_type": "markdown",
   "metadata": {},
   "source": [
    "Normalize the signal\n"
   ]
  },
  {
   "cell_type": "code",
   "execution_count": 1215,
   "metadata": {},
   "outputs": [
    {
     "ename": "UnboundLocalError",
     "evalue": "local variable 'releaseg' referenced before assignment",
     "output_type": "error",
     "traceback": [
      "\u001b[1;31m---------------------------------------------------------------------------\u001b[0m",
      "\u001b[1;31mUnboundLocalError\u001b[0m                         Traceback (most recent call last)",
      "\u001b[1;32m~\\AppData\\Local\\Temp\\ipykernel_3852\\3924642837.py\u001b[0m in \u001b[0;36m<module>\u001b[1;34m\u001b[0m\n\u001b[0;32m      1\u001b[0m \u001b[0mnormalized_y\u001b[0m \u001b[1;33m=\u001b[0m \u001b[0mysum\u001b[0m\u001b[1;33m/\u001b[0m \u001b[0mnp\u001b[0m\u001b[1;33m.\u001b[0m\u001b[0mmax\u001b[0m\u001b[1;33m(\u001b[0m\u001b[0mysum\u001b[0m\u001b[1;33m)\u001b[0m\u001b[1;33m\u001b[0m\u001b[1;33m\u001b[0m\u001b[0m\n\u001b[0;32m      2\u001b[0m \u001b[1;33m\u001b[0m\u001b[0m\n\u001b[1;32m----> 3\u001b[1;33m \u001b[0mrev_y\u001b[0m \u001b[1;33m=\u001b[0m \u001b[0mRev_Conv_Filter\u001b[0m\u001b[1;33m(\u001b[0m\u001b[0mnormalized_y\u001b[0m\u001b[1;33m.\u001b[0m\u001b[0mcopy\u001b[0m\u001b[1;33m(\u001b[0m\u001b[1;33m)\u001b[0m\u001b[1;33m,\u001b[0m \u001b[1;36m2\u001b[0m\u001b[1;33m,\u001b[0m \u001b[1;36m100\u001b[0m\u001b[1;33m)\u001b[0m\u001b[1;33m\u001b[0m\u001b[1;33m\u001b[0m\u001b[0m\n\u001b[0m\u001b[0;32m      4\u001b[0m \u001b[0mplt\u001b[0m\u001b[1;33m.\u001b[0m\u001b[0mplot\u001b[0m\u001b[1;33m(\u001b[0m\u001b[1;33m)\u001b[0m\u001b[1;33m\u001b[0m\u001b[1;33m\u001b[0m\u001b[0m\n\u001b[0;32m      5\u001b[0m \u001b[0mplay\u001b[0m\u001b[1;33m(\u001b[0m\u001b[0mrev_y\u001b[0m\u001b[1;33m)\u001b[0m\u001b[1;33m\u001b[0m\u001b[1;33m\u001b[0m\u001b[0m\n",
      "\u001b[1;32mc:\\Users\\tov.tyvold\\Projects\\frequency_project\\WebApp_Sine_Project\\backend\\filterAudio.py\u001b[0m in \u001b[0;36mRev_Conv_Filter\u001b[1;34m(signal, Duration_inp, DryWet_)\u001b[0m\n\u001b[0;32m    179\u001b[0m         \u001b[0mD1\u001b[0m \u001b[1;33m=\u001b[0m \u001b[1;36m1\u001b[0m \u001b[1;33m-\u001b[0m \u001b[1;36m0.9\u001b[0m \u001b[1;33m*\u001b[0m \u001b[0mDryWet\u001b[0m\u001b[1;33m*\u001b[0m\u001b[0ma\u001b[0m\u001b[1;33m;\u001b[0m \u001b[0mD2\u001b[0m \u001b[1;33m=\u001b[0m \u001b[1;36m1\u001b[0m \u001b[1;33m-\u001b[0m \u001b[1;36m0.8\u001b[0m \u001b[1;33m*\u001b[0m \u001b[0mDryWet\u001b[0m\u001b[1;33m*\u001b[0m\u001b[0ma\u001b[0m\u001b[1;33m;\u001b[0m \u001b[0mD3\u001b[0m \u001b[1;33m=\u001b[0m \u001b[1;36m1\u001b[0m \u001b[1;33m-\u001b[0m \u001b[1;36m0.7\u001b[0m \u001b[1;33m*\u001b[0m \u001b[0mDryWet\u001b[0m\u001b[1;33m*\u001b[0m\u001b[0ma\u001b[0m\u001b[1;33m\u001b[0m\u001b[1;33m\u001b[0m\u001b[0m\n\u001b[0;32m    180\u001b[0m         \u001b[0mD4\u001b[0m \u001b[1;33m=\u001b[0m \u001b[1;36m1\u001b[0m \u001b[1;33m-\u001b[0m \u001b[1;36m0.7\u001b[0m \u001b[1;33m*\u001b[0m \u001b[0mDryWet\u001b[0m\u001b[1;33m*\u001b[0m\u001b[0ma\u001b[0m\u001b[1;33m;\u001b[0m \u001b[0mD5\u001b[0m \u001b[1;33m=\u001b[0m \u001b[1;36m1\u001b[0m \u001b[1;33m-\u001b[0m \u001b[1;36m0.6\u001b[0m \u001b[1;33m*\u001b[0m \u001b[0mDryWet\u001b[0m\u001b[1;33m*\u001b[0m\u001b[0ma\u001b[0m\u001b[1;33m\u001b[0m\u001b[1;33m\u001b[0m\u001b[0m\n\u001b[1;32m--> 181\u001b[1;33m \u001b[1;33m\u001b[0m\u001b[0m\n\u001b[0m\u001b[0;32m    182\u001b[0m \u001b[1;33m\u001b[0m\u001b[0m\n\u001b[0;32m    183\u001b[0m     \u001b[1;32melif\u001b[0m \u001b[1;36m0.75\u001b[0m \u001b[1;33m<=\u001b[0m \u001b[0mDryWet\u001b[0m \u001b[1;33m<\u001b[0m \u001b[1;36m1\u001b[0m\u001b[1;33m:\u001b[0m\u001b[1;33m\u001b[0m\u001b[1;33m\u001b[0m\u001b[0m\n",
      "\u001b[1;31mUnboundLocalError\u001b[0m: local variable 'releaseg' referenced before assignment"
     ]
    }
   ],
   "source": [
    "normalized_y = ysum/ np.max(ysum)\n",
    "\n",
    "rev_y = Rev_Conv_Filter(normalized_y.copy(), 2, 100)\n",
    "plt.plot()\n",
    "play(rev_y)"
   ]
  }
 ],
 "metadata": {
  "kernelspec": {
   "display_name": "Python 3.7.9 ('env': venv)",
   "language": "python",
   "name": "python3"
  },
  "language_info": {
   "codemirror_mode": {
    "name": "ipython",
    "version": 3
   },
   "file_extension": ".py",
   "mimetype": "text/x-python",
   "name": "python",
   "nbconvert_exporter": "python",
   "pygments_lexer": "ipython3",
   "version": "3.7.9"
  },
  "orig_nbformat": 4,
  "vscode": {
   "interpreter": {
    "hash": "5883972c3559b8c2a107b728119bed28a192232260a8ae73e5abb44e63623887"
   }
  }
 },
 "nbformat": 4,
 "nbformat_minor": 2
}
