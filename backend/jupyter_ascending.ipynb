{
 "cells": [
  {
   "cell_type": "markdown",
   "metadata": {},
   "source": [
    "Imports"
   ]
  },
  {
   "cell_type": "code",
   "execution_count": 1114,
   "metadata": {},
   "outputs": [],
   "source": [
    "from scipy import signal\n",
    "import numpy as np\n",
    "import matplotlib.pyplot as plt\n",
    "from pydub import AudioSegment\n",
    "from plotting import plot_array\n",
    "from soundGen import play\n",
    "from pointsFrequency import signal_to_hertz\n",
    "from filterAudio import low_pass_Filter, high_pass_Filter, dirac_comb_discrete\n",
    "import torch\n",
    "from torch_pitch_shift import pitch_shift\n",
    "from numpy.random import uniform\n"
   ]
  },
  {
   "cell_type": "markdown",
   "metadata": {},
   "source": [
    "Set universal variables above functions and declare them "
   ]
  },
  {
   "cell_type": "code",
   "execution_count": 1115,
   "metadata": {},
   "outputs": [],
   "source": [
    "Fs = 44100\n",
    "T = 1/(Fs) \n",
    "N = Fs\n",
    "amplitude = 2\n",
    "frequency = [400, 200, 100]\n",
    "t = 1\n",
    "omega = 2 * np.pi\n"
   ]
  },
  {
   "cell_type": "markdown",
   "metadata": {},
   "source": [
    "Then create code for signal"
   ]
  },
  {
   "cell_type": "code",
   "execution_count": 1116,
   "metadata": {},
   "outputs": [],
   "source": [
    "t_vec = np.arange(N)*T*t \n",
    "ysum = 0\n",
    "sine_add = np.sin(np.linspace(-16 * np.pi,16 * np.pi,len(t_vec)))/10\n",
    "omega = 2 * np.pi* sine_add\n",
    "for i in range(len(frequency)):\n",
    "    ysum  += amplitude * np.sin(omega * frequency[i] * t_vec)\n"
   ]
  },
  {
   "cell_type": "markdown",
   "metadata": {},
   "source": [
    "Normalize the signal\n"
   ]
  },
  {
   "cell_type": "code",
   "execution_count": 1117,
   "metadata": {},
   "outputs": [],
   "source": [
    "normalized_y = ysum/ np.max(ysum)\n",
    "\n"
   ]
  },
  {
   "cell_type": "markdown",
   "metadata": {},
   "source": [
    "Fix Reverb"
   ]
  },
  {
   "cell_type": "code",
   "execution_count": 1118,
   "metadata": {},
   "outputs": [
    {
     "name": "stdout",
     "output_type": "stream",
     "text": [
      "0.25\n"
     ]
    }
   ],
   "source": [
    "Duration_inp = 5\n",
    "DryWet_ = 25\n",
    "DryWet = abs((DryWet_/100)) # 1 = Wet, 0 = Dry\n",
    "\n",
    "\n",
    "t = Duration_inp\n",
    "length = len(normalized_y)\n",
    "if Duration_inp == 1:\n",
    "    Duration_inp = 2\n",
    "t = Duration_inp\n",
    "Duration = Duration_inp\n",
    "total_len = int(Duration * length)\n",
    "t_vec_r = np.arange(int(N * Duration)) * T * t\n",
    "x = float(length/(total_len))\n",
    "\n",
    "#First output original sample\n",
    "\n",
    "length1 = int(total_len * (x)) \n",
    "length2 = int(total_len * ((Duration_inp-1) * x/3)) + length1\n",
    "length3 = int(total_len * ((Duration_inp-1) * x/4)) + length2\n",
    "length4 = int(total_len * ((Duration_inp-1) * x/6)) + length3\n",
    "length5 = int(total_len * ((Duration_inp-1) * x/6)) + length4\n",
    "length6 = int(total_len * ((Duration_inp-1) * x/12)) + length5\n",
    "\n",
    "\n",
    "\"\"\" releaseg = np.ones_like(t_vec_r)\n",
    "releaseh = np.ones_like(t_vec_r)\n",
    "releasek = np.ones_like(t_vec_r)\n",
    "releasej = np.ones_like(t_vec_r)\n",
    "releasel = np.ones_like(t_vec_r)\n",
    "if Duration_inp >= 3: \"\"\"\n",
    "releaseg = np.linspace(1,0.75, length2 - length1+1)\n",
    "releaseh = np.linspace(1,0.5, length3 - length2+1)\n",
    "releasek = np.linspace(1,0.5, length4 - length3)\n",
    "releasej = np.linspace(1,0.5, length5 - length4)\n",
    "releasel = np.linspace(1,0.5, length6 - length5)\n",
    "\n",
    "cych = 2205\n",
    "cyc3h = 3 * cych\n",
    "cyc5h = 5 * cych\n",
    "cyc7h = 7 * cych\n",
    "cyc9h = 9 * cych\n",
    "norm_y_a = normalized_y.copy()\n",
    "norm_y = list(norm_y_a) * int((Duration))\n",
    "\n",
    "conv_y = np.zeros_like(t_vec_r)\n",
    "\n",
    "if DryWet == 0.0:\n",
    "    D1 = 1; D2 = 1; D3 = 1; D4 = 1; D5 = 1\n",
    "\n",
    "elif DryWet == 1:\n",
    "    a = 1\n",
    "    D1 = 1 - 0.9 * DryWet*a; D2 = 1 - 0.8 * DryWet*a; D3 = 1 - 0.7 * DryWet*a\n",
    "    D4 = 1 - 0.7 * DryWet*a; D5 = 1 - 0.6 * DryWet*a\n",
    "\n",
    "\n",
    "elif 0.75 <= DryWet < 1:\n",
    "    a = 1.2 + (1 - DryWet)*2.75\n",
    "    D1 = 1 - 0.9 * DryWet*a; D2 = 1 - 0.8 * DryWet*a; D3 = 1 - 0.7 * DryWet*a\n",
    "    D4 = 1 - 0.7 * DryWet*a; D5 = 1 - 0.6 * DryWet*a\n",
    "\n",
    "elif 0.5 <= DryWet < 0.75:\n",
    "    a = 2 + (1 - DryWet - 0.3) * 3.5\n",
    "    D1 = 1 - 0.9 * DryWet*a; D2 = 1 - 0.8 * DryWet*a; D3 = 1 - 0.7 * DryWet*a\n",
    "    D4 = 1 - 0.7 * DryWet*a; D5 = 1 - 0.6 * DryWet*a\n",
    "\n",
    "\n",
    "elif 0.25 <= DryWet < 0.5:\n",
    "    b = 8 - abs(1 - DryWet*4)*8\n",
    "    D1 = 1 - 0.9 * DryWet*b; D2 = 1 - 0.8 * DryWet*b; D3 = 1 - 0.7 * DryWet*b\n",
    "    D4 = 1 - 0.7 * DryWet*b; D5 = 1 - 0.6 * DryWet*b\n",
    "\n",
    "elif 0 < DryWet < 0.25:\n",
    "    b = 0.1\n",
    "    D1 = 1 - 0.9 * DryWet*b; D2 = 1 - 0.8 * DryWet*b; D3 = 1 - 0.7 * DryWet*b\n",
    "    D4 = 1 - 0.7 * DryWet*b; D5 = 1 - 0.6 * DryWet*b\n",
    "#Release constants\n",
    "g = 0; h = 0; k = 0; j = 0; l = 0"
   ]
  },
  {
   "cell_type": "code",
   "execution_count": 1119,
   "metadata": {},
   "outputs": [],
   "source": [
    "\n",
    "\n",
    "for n in range(len(t_vec_r)):\n",
    "    \n",
    "    if n >= length1 and n < length2:\n",
    "        conv_y[n] = releaseg[g] * (norm_y[n] * D1 - norm_y[n-length1+cych]*0.9 * DryWet)\n",
    "        g += 1\n",
    "\n",
    "    elif n >= length2 and n <= length3:\n",
    "        conv_y[n] = releaseh[h] * (norm_y[n- length2] * D2 - norm_y[n-length2+cych]*0.3 * DryWet - norm_y[n- length2+cyc3h]*0.3  * DryWet\\\n",
    "            - norm_y[n- length2+cyc5h]*0.1 * DryWet - norm_y[n- length2+cyc7h]*0.15 * DryWet)\n",
    "        h += 1 \n",
    "\n",
    "    elif n >= length3 and n <= length4:\n",
    "        conv_y[n] = releasek[k] * (norm_y[n-length3] * D3 - norm_y[n-length3+cych]*0.3 * DryWet\\\n",
    "            - norm_y[n- length3+cyc3h]*0.2 * DryWet - norm_y[n- length3+cyc5h]*0.1 * DryWet - norm_y[n- length3+cyc7h]*0.1 * DryWet)\n",
    "        k += 1\n",
    "\n",
    "    elif n >= length4 and n <= length5:\n",
    "        conv_y[n] = releasej[j] * (norm_y[n-length4] * D4 - norm_y[n-length4+cych]*0.2 * DryWet - norm_y[n- length4+cyc3h]*0.2 * DryWet\\\n",
    "            - norm_y[n- length4+cyc5h]*0.1 * DryWet - norm_y[n - length4+cyc7h]*0.05 * DryWet - norm_y[n - length4+cyc9h]*0.05 * DryWet)\n",
    "        j += 1\n",
    "        \n",
    "    elif n >= length5 and n < length6:\n",
    "        dist = n - length5\n",
    "        conv_y[n] =  releasel[l] * (norm_y[dist] * D5 - norm_y[dist+cych]*0.2 * DryWet - norm_y[dist+cyc3h]*0.15 * DryWet\\\n",
    "            - norm_y[dist+cyc5h]*0.05 * DryWet - norm_y[dist+cyc7h]*0.05 * DryWet - norm_y[dist+cyc9h]*0.05 * DryWet)\n",
    "        l += 1\n",
    "\n",
    "    else:\n",
    "        \n",
    "        conv_y[n] = norm_y[n]"
   ]
  },
  {
   "cell_type": "code",
   "execution_count": 1120,
   "metadata": {},
   "outputs": [
    {
     "data": {
      "image/png": "[encoded data removed]",
      "text/plain": [
       "<Figure size 640x480 with 1 Axes>"
      ]
     },
     "metadata": {},
     "output_type": "display_data"
    }
   ],
   "source": [
    "plt.plot(t_vec_r, conv_y)\n",
    "play(conv_y)"
   ]
  }
 ],
 "metadata": {
  "kernelspec": {
   "display_name": "Python 3.7.9 ('env': venv)",
   "language": "python",
   "name": "python3"
  },
  "language_info": {
   "codemirror_mode": {
    "name": "ipython",
    "version": 3
   },
   "file_extension": ".py",
   "mimetype": "text/x-python",
   "name": "python",
   "nbconvert_exporter": "python",
   "pygments_lexer": "ipython3",
   "version": "3.7.9"
  },
  "orig_nbformat": 4,
  "vscode": {
   "interpreter": {
    "hash": "5883972c3559b8c2a107b728119bed28a192232260a8ae73e5abb44e63623887"
   }
  }
 },
 "nbformat": 4,
 "nbformat_minor": 2
}
