{
 "cells": [
  {
   "cell_type": "markdown",
   "metadata": {},
   "source": [
    "Set universal variables above functions and declare them "
   ]
  },
  {
   "cell_type": "code",
   "execution_count": 289,
   "metadata": {},
   "outputs": [],
   "source": [
    "from scipy import signal\n",
    "import numpy as np\n",
    "import matplotlib.pyplot as plt\n",
    "from plotting import plot_array\n",
    "from soundGen import play\n",
    "from filterAudio import low_pass_Filter, high_pass_Filter, dirac_comb_discrete\n",
    "\n",
    "Decay_factors = \\\n",
    "    [0.131, -0.2743, -0.21] \n",
    "decayFactor = 1 # Preferrably pluss sign - * (-1)**(np.random.randint(low = 1, high = 3))\n",
    "\n",
    "delay_factors = \\\n",
    "    [11.73*0.75, -19.31*0.75, -7.97*0.75]\n",
    "delay =   60*0.75 #1 + np.ceil(np.abs(delay_factors).max())\n",
    "mixPercent = 50\n",
    "decayFactor_AP = 0.131\n",
    "Fs = 44100\n",
    "T = 1/(Fs) \n",
    "N = Fs\n",
    "amplitude = 2\n",
    "frequency = [200,400,800]\n",
    "t = 1\n",
    "omega = 2 * np.pi\n"
   ]
  },
  {
   "cell_type": "markdown",
   "metadata": {},
   "source": [
    "Then create code for signal"
   ]
  },
  {
   "cell_type": "code",
   "execution_count": 290,
   "metadata": {},
   "outputs": [],
   "source": [
    "t_vec = np.arange(N)*T*t \n",
    "ysum = 0\n",
    "sine_add = np.sin(np.linspace(-16 * np.pi,16 * np.pi,len(t_vec)))/10\n",
    "omega = 2 * np.pi* sine_add\n",
    "for i in range(len(frequency)):\n",
    "    ysum  += amplitude * np.sin(omega * frequency[i] * t_vec)\n"
   ]
  },
  {
   "cell_type": "markdown",
   "metadata": {},
   "source": [
    "Normalize the signal\n"
   ]
  },
  {
   "cell_type": "code",
   "execution_count": 291,
   "metadata": {},
   "outputs": [
    {
     "data": {
      "image/png": "[encoded data removed]",
      "text/plain": [
       "<Figure size 640x480 with 1 Axes>"
      ]
     },
     "metadata": {},
     "output_type": "display_data"
    }
   ],
   "source": [
    "normalized_y = ysum/ np.max(ysum)\n",
    "plt.figure()\n",
    "plot_array(t_vec, normalized_y, \"y\", \"t[s]\", \"A[m]\", \"y\", \"r\", \"-\", False, \"y.pdf\")\n",
    "plt.show()\n"
   ]
  },
  {
   "cell_type": "markdown",
   "metadata": {},
   "source": [
    "Try Dirac-delta"
   ]
  },
  {
   "cell_type": "code",
   "execution_count": 292,
   "metadata": {},
   "outputs": [
    {
     "ename": "ValueError",
     "evalue": "too many values to unpack (expected 2)",
     "output_type": "error",
     "traceback": [
      "\u001b[1;31m---------------------------------------------------------------------------\u001b[0m",
      "\u001b[1;31mValueError\u001b[0m                                Traceback (most recent call last)",
      "\u001b[1;32m~\\AppData\\Local\\Temp\\ipykernel_10856\\68490330.py\u001b[0m in \u001b[0;36m<module>\u001b[1;34m\u001b[0m\n\u001b[0;32m      2\u001b[0m \u001b[0my\u001b[0m \u001b[1;33m=\u001b[0m \u001b[0mnormalized_y\u001b[0m\u001b[1;33m.\u001b[0m\u001b[0mcopy\u001b[0m\u001b[1;33m(\u001b[0m\u001b[1;33m)\u001b[0m\u001b[1;33m\u001b[0m\u001b[1;33m\u001b[0m\u001b[0m\n\u001b[0;32m      3\u001b[0m \u001b[0mK_\u001b[0m \u001b[1;33m=\u001b[0m \u001b[1;36m3\u001b[0m\u001b[1;33m\u001b[0m\u001b[1;33m\u001b[0m\u001b[0m\n\u001b[1;32m----> 4\u001b[1;33m \u001b[0mdirac\u001b[0m\u001b[1;33m,\u001b[0m \u001b[0mK\u001b[0m \u001b[1;33m=\u001b[0m \u001b[0mdirac_comb_discrete\u001b[0m\u001b[1;33m(\u001b[0m\u001b[0my\u001b[0m\u001b[1;33m,\u001b[0m \u001b[0mN_\u001b[0m\u001b[1;33m,\u001b[0m \u001b[0mK_\u001b[0m\u001b[1;33m)\u001b[0m\u001b[1;33m\u001b[0m\u001b[1;33m\u001b[0m\u001b[0m\n\u001b[0m\u001b[0;32m      5\u001b[0m \u001b[0mprint\u001b[0m\u001b[1;33m(\u001b[0m\u001b[0mK\u001b[0m\u001b[1;33m)\u001b[0m\u001b[1;33m\u001b[0m\u001b[1;33m\u001b[0m\u001b[0m\n\u001b[0;32m      6\u001b[0m \u001b[0mplt\u001b[0m\u001b[1;33m.\u001b[0m\u001b[0mplot\u001b[0m\u001b[1;33m(\u001b[0m\u001b[0mt_vec\u001b[0m\u001b[1;33m,\u001b[0m \u001b[0mdirac\u001b[0m\u001b[1;33m)\u001b[0m\u001b[1;33m\u001b[0m\u001b[1;33m\u001b[0m\u001b[0m\n",
      "\u001b[1;31mValueError\u001b[0m: too many values to unpack (expected 2)"
     ]
    }
   ],
   "source": [
    "N_ = 3  \n",
    "y = normalized_y.copy()\n",
    "K_ = 3 \n",
    "dirac, K = dirac_comb_discrete(y, N_, K_)\n",
    "print(K)\n",
    "plt.plot(t_vec, dirac)\n",
    "plt.show()"
   ]
  },
  {
   "cell_type": "markdown",
   "metadata": {},
   "source": [
    "Convolution"
   ]
  },
  {
   "cell_type": "markdown",
   "metadata": {},
   "source": [
    "Set up for reverbation algo, we want n seperate intervals based on time:     "
   ]
  },
  {
   "cell_type": "code",
   "execution_count": null,
   "metadata": {},
   "outputs": [
    {
     "name": "stdout",
     "output_type": "stream",
     "text": [
      "220500\n",
      "220500\n"
     ]
    }
   ],
   "source": [
    "length = len(normalized_y)\n",
    "DryWet_ = 100\n",
    "Duration_inp = 5\n",
    "if Duration_inp == 1:\n",
    "    Duration_inp = 2\n",
    "t = Duration_inp\n",
    "Duration = Duration_inp\n",
    "total_len = int(Duration * length)\n",
    "t_vec_r = np.arange(int(N * Duration)) * T * t\n",
    "x = float(length/(total_len))\n",
    "DryWet = abs((DryWet_/100))\n",
    "#First output original sample\n",
    "\n",
    "length1 = int(total_len * (x)) \n",
    "\n",
    "length2 = int(total_len * ((Duration_inp-1) * x/3)) + length1\n",
    "\n",
    "length3 = int(total_len * ((Duration_inp-1) * x/4)) + length2\n",
    "\n",
    "length4 = int(total_len * ((Duration_inp-1) * x/6)) + length3\n",
    "\n",
    "length5 = int(total_len * ((Duration_inp-1) * x/6)) + length4\n",
    "\n",
    "length6 = int(total_len * ((Duration_inp-1) * x/12)) + length5\n",
    "\n",
    "print(len(t_vec_r))\n",
    "print(total_len)\n",
    "\n",
    "releasek = np.ones_like(t_vec_r)\n",
    "releasej = np.ones_like(t_vec_r)\n",
    "releasel = np.ones_like(t_vec_r)\n",
    "if Duration_inp >= 3:\n",
    "    releaseg = np.linspace(1,0.75, length2 - length1+1)\n",
    "    releaseh = np.linspace(1,0.5, length3 - length2+1)\n",
    "    releasek = np.linspace(1,0.5, length4 - length3)\n",
    "    releasej = np.linspace(1,0.5, length5 - length4)\n",
    "    releasel = np.linspace(1,0.5, length6 - length5)\n",
    "\n",
    "cych = 2205\n",
    "cyc3h = 3 * cych\n",
    "cyc5h = 5 * cych\n",
    "cyc7h = 7 * cych\n",
    "cyc9h = 9 * cych\n",
    "norm_y_a = normalized_y.copy()\n",
    "norm_y = list(norm_y_a) * int((Duration))\n",
    "\n",
    "conv_y = np.zeros_like(t_vec_r)\n",
    "#Release constants\n",
    "g = 0\n",
    "h = 0\n",
    "k = 0\n",
    "j = 0\n",
    "l = 0\n"
   ]
  },
  {
   "cell_type": "code",
   "execution_count": null,
   "metadata": {},
   "outputs": [],
   "source": [
    "for n in range(len(t_vec_r)):\n",
    "    \n",
    "    if n >= length1 and n < length2:\n",
    "        conv_y[n] = releaseg[g] * (norm_y[n]*0.4 - norm_y[n-length1+cych]*0.5 * DryWet)\n",
    "        g += 1\n",
    "\n",
    "    elif n >= length2 and n <= length3:\n",
    "        conv_y[n] = releaseh[h] * (norm_y[n- length2]*0.4 - norm_y[n-length2+cych]*0.3 * DryWet - norm_y[n- length2+cyc3h]*0.25 * DryWet\\\n",
    "             - norm_y[n- length2+cyc5h]*0.2 * DryWet - norm_y[n- length2+cyc7h]*0.2 * DryWet)\n",
    "        h += 1 \n",
    "\n",
    "    elif n >= length3 and n <= length4:\n",
    "        conv_y[n] = releasek[k] * (norm_y[n-length3]*0.3 - norm_y[n-length3+cych]*0.2 * DryWet\\\n",
    "            - norm_y[n- length3+cyc3h]*0.15 * DryWet - norm_y[n- length3+cyc5h]*0.15 * DryWet)\n",
    "        k += 1\n",
    "\n",
    "    elif n >= length4 and n <= length5:\n",
    "        conv_y[n] = releasej[j] * (norm_y[n-length4]*0.2 - norm_y[n-length4+cych]*0.2 * DryWet - norm_y[n- length4+cyc3h]*0.1 * DryWet\\\n",
    "            - norm_y[n- length4+cyc5h]*0.15 * DryWet - norm_y[n- length4+cyc7h]*0.15 * DryWet)\n",
    "        j += 1\n",
    "        \n",
    "    elif n >= length5 and n < length6:\n",
    "        dist = n - length5\n",
    "        conv_y[n] =  releasel[l] * (norm_y[dist]*0.2 - norm_y[dist+cych]*0.15 * DryWet - norm_y[dist+cyc3h]*0.15 * DryWet\\\n",
    "            - norm_y[dist+cyc5h]*0.1 * DryWet - norm_y[dist+cyc7h]*0.01 * DryWet - norm_y[dist+cyc9h]*0.01 * DryWet)\n",
    "        l += 1\n",
    "\n",
    "    else:\n",
    "        \n",
    "        conv_y[n] = norm_y[n]"
   ]
  },
  {
   "cell_type": "code",
   "execution_count": null,
   "metadata": {},
   "outputs": [
    {
     "data": {
      "image/png": "[encoded data removed]",
      "text/plain": [
       "<Figure size 640x480 with 1 Axes>"
      ]
     },
     "metadata": {},
     "output_type": "display_data"
    }
   ],
   "source": [
    "plt.figure()\n",
    "plt.plot(t_vec_r, conv_y)\n",
    "plt.show()\n",
    "#play(conv_y)"
   ]
  },
  {
   "cell_type": "markdown",
   "metadata": {},
   "source": [
    "Try to reduce clipping of the sound by smoothing"
   ]
  },
  {
   "cell_type": "markdown",
   "metadata": {},
   "source": [
    "Try to reduce noise"
   ]
  },
  {
   "cell_type": "markdown",
   "metadata": {},
   "source": [
    "Generate FFT of the signal and try to adjust pitch"
   ]
  },
  {
   "cell_type": "code",
   "execution_count": null,
   "metadata": {},
   "outputs": [
    {
     "ename": "NameError",
     "evalue": "name 'new_array' is not defined",
     "output_type": "error",
     "traceback": [
      "\u001b[1;31m---------------------------------------------------------------------------\u001b[0m",
      "\u001b[1;31mNameError\u001b[0m                                 Traceback (most recent call last)",
      "\u001b[1;32m~\\AppData\\Local\\Temp\\ipykernel_10856\\1547011241.py\u001b[0m in \u001b[0;36m<module>\u001b[1;34m\u001b[0m\n\u001b[1;32m----> 1\u001b[1;33m \u001b[0mlength\u001b[0m \u001b[1;33m=\u001b[0m \u001b[0mlen\u001b[0m\u001b[1;33m(\u001b[0m\u001b[0mnew_array\u001b[0m\u001b[1;33m)\u001b[0m\u001b[1;33m\u001b[0m\u001b[1;33m\u001b[0m\u001b[0m\n\u001b[0m\u001b[0;32m      2\u001b[0m \u001b[1;33m\u001b[0m\u001b[0m\n\u001b[0;32m      3\u001b[0m \u001b[0mY_k\u001b[0m \u001b[1;33m=\u001b[0m \u001b[0mnp\u001b[0m\u001b[1;33m.\u001b[0m\u001b[0mfft\u001b[0m\u001b[1;33m.\u001b[0m\u001b[0mfft\u001b[0m\u001b[1;33m(\u001b[0m\u001b[0mnew_array\u001b[0m\u001b[1;33m)\u001b[0m\u001b[1;33m[\u001b[0m\u001b[1;36m0\u001b[0m\u001b[1;33m:\u001b[0m\u001b[0mint\u001b[0m\u001b[1;33m(\u001b[0m\u001b[0mlength\u001b[0m\u001b[1;33m/\u001b[0m\u001b[1;36m2\u001b[0m\u001b[1;33m)\u001b[0m\u001b[1;33m]\u001b[0m\u001b[1;33m/\u001b[0m\u001b[0mlength\u001b[0m \u001b[1;31m# FFT function from numpy\u001b[0m\u001b[1;33m\u001b[0m\u001b[1;33m\u001b[0m\u001b[0m\n\u001b[0;32m      4\u001b[0m \u001b[0mY_k\u001b[0m\u001b[1;33m[\u001b[0m\u001b[1;36m1\u001b[0m\u001b[1;33m:\u001b[0m\u001b[1;33m]\u001b[0m \u001b[1;33m=\u001b[0m \u001b[1;36m2\u001b[0m\u001b[1;33m*\u001b[0m\u001b[0mY_k\u001b[0m\u001b[1;33m[\u001b[0m\u001b[1;36m1\u001b[0m\u001b[1;33m:\u001b[0m\u001b[1;33m]\u001b[0m \u001b[1;31m# need to take the single-sided spectrum only\u001b[0m\u001b[1;33m\u001b[0m\u001b[1;33m\u001b[0m\u001b[0m\n\u001b[0;32m      5\u001b[0m \u001b[0mPxx\u001b[0m \u001b[1;33m=\u001b[0m \u001b[0mnp\u001b[0m\u001b[1;33m.\u001b[0m\u001b[0mabs\u001b[0m\u001b[1;33m(\u001b[0m\u001b[0mY_k\u001b[0m\u001b[1;33m)\u001b[0m \u001b[1;31m# be sure to get rid of imaginary part\u001b[0m\u001b[1;33m\u001b[0m\u001b[1;33m\u001b[0m\u001b[0m\n",
      "\u001b[1;31mNameError\u001b[0m: name 'new_array' is not defined"
     ]
    }
   ],
   "source": [
    "length = len(new_array)\n",
    "\n",
    "Y_k = np.fft.fft(new_array)[0:int(length/2)]/length # FFT function from numpy\n",
    "Y_k[1:] = 2*Y_k[1:] # need to take the single-sided spectrum only\n",
    "Pxx = np.abs(Y_k) # be sure to get rid of imaginary part\n",
    "f = Fs*np.arange((length/2))/length # frequency vector\n",
    "plt.figure()\n",
    "plt.xlim([0, np.max(frequency)+100])\n",
    "plt.plot(f, Pxx)\n",
    "plt.show()\n",
    "\n",
    "\n",
    "\n",
    "#frequency = [30, 20, 100, 240]\n",
    "Powers = sorted(Pxx, reverse= False)[-len(frequency):]\n",
    "\n",
    "frequencies = []\n",
    "k = 0\n",
    "tol = 1e-4\n",
    "\n",
    "for i in range(int(length/2)):\n",
    "    if abs(Powers[k] - Pxx[i]) < tol:\n",
    "        frequencies.append(f[i])\n",
    "        print(f[i])\n",
    "        k += 1\n",
    "        if k == len(Powers):\n",
    "            break\n",
    "    \n",
    "\n",
    "print(Powers)\n",
    "print(frequencies)"
   ]
  }
 ],
 "metadata": {
  "kernelspec": {
   "display_name": "Python 3.7.9 ('env': venv)",
   "language": "python",
   "name": "python3"
  },
  "language_info": {
   "codemirror_mode": {
    "name": "ipython",
    "version": 3
   },
   "file_extension": ".py",
   "mimetype": "text/x-python",
   "name": "python",
   "nbconvert_exporter": "python",
   "pygments_lexer": "ipython3",
   "version": "3.7.9"
  },
  "orig_nbformat": 4,
  "vscode": {
   "interpreter": {
    "hash": "5883972c3559b8c2a107b728119bed28a192232260a8ae73e5abb44e63623887"
   }
  }
 },
 "nbformat": 4,
 "nbformat_minor": 2
}
